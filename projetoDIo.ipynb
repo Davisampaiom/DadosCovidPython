{
  "nbformat": 4,
  "nbformat_minor": 0,
  "metadata": {
    "colab": {
      "name": "projetoDIo.ipynb",
      "provenance": [],
      "collapsed_sections": []
    },
    "kernelspec": {
      "name": "python3",
      "display_name": "Python 3"
    },
    "language_info": {
      "name": "python"
    }
  },
  "cells": [
    {
      "cell_type": "code",
      "metadata": {
        "id": "Nld1j6dEK0Qj"
      },
      "source": [
        "import pandas as pd"
      ],
      "execution_count": 2,
      "outputs": []
    },
    {
      "cell_type": "code",
      "metadata": {
        "id": "qO1auG_NUxcF"
      },
      "source": [
        "df1 = pd.read_csv('COVIDBR_2021_Parte1.csv',error_bad_lines=False, sep=\";\" )\n",
        "df2 = pd.read_csv('COVIDBR_2021_Parte2.csv',error_bad_lines=False, sep=\";\" )\n",
        "df = pd.concat([df1,df2])"
      ],
      "execution_count": 5,
      "outputs": []
    },
    {
      "cell_type": "code",
      "metadata": {
        "colab": {
          "base_uri": "https://localhost:8080/",
          "height": 313
        },
        "id": "N7FCyiw4SrdA",
        "outputId": "810d9e91-91ad-466c-ec74-e5db11049960"
      },
      "source": [
        "df.head()"
      ],
      "execution_count": 6,
      "outputs": [
        {
          "output_type": "execute_result",
          "data": {
            "text/html": [
              "<div>\n",
              "<style scoped>\n",
              "    .dataframe tbody tr th:only-of-type {\n",
              "        vertical-align: middle;\n",
              "    }\n",
              "\n",
              "    .dataframe tbody tr th {\n",
              "        vertical-align: top;\n",
              "    }\n",
              "\n",
              "    .dataframe thead th {\n",
              "        text-align: right;\n",
              "    }\n",
              "</style>\n",
              "<table border=\"1\" class=\"dataframe\">\n",
              "  <thead>\n",
              "    <tr style=\"text-align: right;\">\n",
              "      <th></th>\n",
              "      <th>regiao</th>\n",
              "      <th>estado</th>\n",
              "      <th>municipio</th>\n",
              "      <th>coduf</th>\n",
              "      <th>codmun</th>\n",
              "      <th>codRegiaoSaude</th>\n",
              "      <th>nomeRegiaoSaude</th>\n",
              "      <th>data</th>\n",
              "      <th>semanaEpi</th>\n",
              "      <th>populacaoTCU2019</th>\n",
              "      <th>casosAcumulado</th>\n",
              "      <th>casosNovos</th>\n",
              "      <th>obitosAcumulado</th>\n",
              "      <th>obitosNovos</th>\n",
              "      <th>Recuperadosnovos</th>\n",
              "      <th>emAcompanhamentoNovos</th>\n",
              "      <th>interior/metropolitana</th>\n",
              "    </tr>\n",
              "  </thead>\n",
              "  <tbody>\n",
              "    <tr>\n",
              "      <th>0</th>\n",
              "      <td>Brasil</td>\n",
              "      <td>NaN</td>\n",
              "      <td>NaN</td>\n",
              "      <td>76</td>\n",
              "      <td>NaN</td>\n",
              "      <td>NaN</td>\n",
              "      <td>NaN</td>\n",
              "      <td>2021-01-01</td>\n",
              "      <td>53.0</td>\n",
              "      <td>210147125.0</td>\n",
              "      <td>7700578.0</td>\n",
              "      <td>24605.0</td>\n",
              "      <td>195411.0</td>\n",
              "      <td>462.0</td>\n",
              "      <td>6747065.0</td>\n",
              "      <td>733959.0</td>\n",
              "      <td>NaN</td>\n",
              "    </tr>\n",
              "    <tr>\n",
              "      <th>1</th>\n",
              "      <td>Brasil</td>\n",
              "      <td>NaN</td>\n",
              "      <td>NaN</td>\n",
              "      <td>76</td>\n",
              "      <td>NaN</td>\n",
              "      <td>NaN</td>\n",
              "      <td>NaN</td>\n",
              "      <td>2021-01-02</td>\n",
              "      <td>53.0</td>\n",
              "      <td>210147125.0</td>\n",
              "      <td>7716405.0</td>\n",
              "      <td>15827.0</td>\n",
              "      <td>195725.0</td>\n",
              "      <td>314.0</td>\n",
              "      <td>6756284.0</td>\n",
              "      <td>748883.0</td>\n",
              "      <td>NaN</td>\n",
              "    </tr>\n",
              "    <tr>\n",
              "      <th>2</th>\n",
              "      <td>Brasil</td>\n",
              "      <td>NaN</td>\n",
              "      <td>NaN</td>\n",
              "      <td>76</td>\n",
              "      <td>NaN</td>\n",
              "      <td>NaN</td>\n",
              "      <td>NaN</td>\n",
              "      <td>2021-01-03</td>\n",
              "      <td>1.0</td>\n",
              "      <td>210147125.0</td>\n",
              "      <td>7733746.0</td>\n",
              "      <td>17341.0</td>\n",
              "      <td>196018.0</td>\n",
              "      <td>293.0</td>\n",
              "      <td>6769420.0</td>\n",
              "      <td>751260.0</td>\n",
              "      <td>NaN</td>\n",
              "    </tr>\n",
              "    <tr>\n",
              "      <th>3</th>\n",
              "      <td>Brasil</td>\n",
              "      <td>NaN</td>\n",
              "      <td>NaN</td>\n",
              "      <td>76</td>\n",
              "      <td>NaN</td>\n",
              "      <td>NaN</td>\n",
              "      <td>NaN</td>\n",
              "      <td>2021-01-04</td>\n",
              "      <td>1.0</td>\n",
              "      <td>210147125.0</td>\n",
              "      <td>7753752.0</td>\n",
              "      <td>20006.0</td>\n",
              "      <td>196561.0</td>\n",
              "      <td>543.0</td>\n",
              "      <td>6813008.0</td>\n",
              "      <td>724720.0</td>\n",
              "      <td>NaN</td>\n",
              "    </tr>\n",
              "    <tr>\n",
              "      <th>4</th>\n",
              "      <td>Brasil</td>\n",
              "      <td>NaN</td>\n",
              "      <td>NaN</td>\n",
              "      <td>76</td>\n",
              "      <td>NaN</td>\n",
              "      <td>NaN</td>\n",
              "      <td>NaN</td>\n",
              "      <td>2021-01-05</td>\n",
              "      <td>1.0</td>\n",
              "      <td>210147125.0</td>\n",
              "      <td>7810400.0</td>\n",
              "      <td>56648.0</td>\n",
              "      <td>197732.0</td>\n",
              "      <td>1171.0</td>\n",
              "      <td>6875230.0</td>\n",
              "      <td>681961.0</td>\n",
              "      <td>NaN</td>\n",
              "    </tr>\n",
              "  </tbody>\n",
              "</table>\n",
              "</div>"
            ],
            "text/plain": [
              "   regiao estado  ... emAcompanhamentoNovos  interior/metropolitana\n",
              "0  Brasil    NaN  ...              733959.0                     NaN\n",
              "1  Brasil    NaN  ...              748883.0                     NaN\n",
              "2  Brasil    NaN  ...              751260.0                     NaN\n",
              "3  Brasil    NaN  ...              724720.0                     NaN\n",
              "4  Brasil    NaN  ...              681961.0                     NaN\n",
              "\n",
              "[5 rows x 17 columns]"
            ]
          },
          "metadata": {
            "tags": []
          },
          "execution_count": 6
        }
      ]
    },
    {
      "cell_type": "code",
      "metadata": {
        "colab": {
          "base_uri": "https://localhost:8080/"
        },
        "id": "d3CZWTz3TAaz",
        "outputId": "d4f9f69e-deb2-4c64-c168-258e30f33f66"
      },
      "source": [
        "df.dtypes"
      ],
      "execution_count": 7,
      "outputs": [
        {
          "output_type": "execute_result",
          "data": {
            "text/plain": [
              "regiao                     object\n",
              "estado                     object\n",
              "municipio                  object\n",
              "coduf                       int64\n",
              "codmun                    float64\n",
              "codRegiaoSaude            float64\n",
              "nomeRegiaoSaude            object\n",
              "data                       object\n",
              "semanaEpi                 float64\n",
              "populacaoTCU2019          float64\n",
              "casosAcumulado            float64\n",
              "casosNovos                float64\n",
              "obitosAcumulado           float64\n",
              "obitosNovos               float64\n",
              "Recuperadosnovos          float64\n",
              "emAcompanhamentoNovos     float64\n",
              "interior/metropolitana    float64\n",
              "dtype: object"
            ]
          },
          "metadata": {
            "tags": []
          },
          "execution_count": 7
        }
      ]
    },
    {
      "cell_type": "code",
      "metadata": {
        "id": "lcKla6tJTKb4"
      },
      "source": [
        "df = df.drop(['coduf','codRegiaoSaude', 'codmun' , 'nomeRegiaoSaude','semanaEpi', 'emAcompanhamentoNovos','interior/metropolitana'], axis = 1)"
      ],
      "execution_count": 10,
      "outputs": []
    },
    {
      "cell_type": "code",
      "metadata": {
        "colab": {
          "base_uri": "https://localhost:8080/",
          "height": 313
        },
        "id": "pqIarI6TUVkC",
        "outputId": "2f697fd8-9d93-4300-d002-9ca4c4c019ed"
      },
      "source": [
        "df.head()"
      ],
      "execution_count": 14,
      "outputs": [
        {
          "output_type": "execute_result",
          "data": {
            "text/html": [
              "<div>\n",
              "<style scoped>\n",
              "    .dataframe tbody tr th:only-of-type {\n",
              "        vertical-align: middle;\n",
              "    }\n",
              "\n",
              "    .dataframe tbody tr th {\n",
              "        vertical-align: top;\n",
              "    }\n",
              "\n",
              "    .dataframe thead th {\n",
              "        text-align: right;\n",
              "    }\n",
              "</style>\n",
              "<table border=\"1\" class=\"dataframe\">\n",
              "  <thead>\n",
              "    <tr style=\"text-align: right;\">\n",
              "      <th></th>\n",
              "      <th>regiao</th>\n",
              "      <th>estado</th>\n",
              "      <th>municipio</th>\n",
              "      <th>data</th>\n",
              "      <th>populacaoTCU2019</th>\n",
              "      <th>casosAcumulado</th>\n",
              "      <th>casosNovos</th>\n",
              "      <th>obitosAcumulado</th>\n",
              "      <th>obitosNovos</th>\n",
              "      <th>Recuperadosnovos</th>\n",
              "    </tr>\n",
              "  </thead>\n",
              "  <tbody>\n",
              "    <tr>\n",
              "      <th>0</th>\n",
              "      <td>Brasil</td>\n",
              "      <td>NaN</td>\n",
              "      <td>NaN</td>\n",
              "      <td>2021-01-01</td>\n",
              "      <td>210147125.0</td>\n",
              "      <td>7700578.0</td>\n",
              "      <td>24605.0</td>\n",
              "      <td>195411.0</td>\n",
              "      <td>462.0</td>\n",
              "      <td>6747065.0</td>\n",
              "    </tr>\n",
              "    <tr>\n",
              "      <th>1</th>\n",
              "      <td>Brasil</td>\n",
              "      <td>NaN</td>\n",
              "      <td>NaN</td>\n",
              "      <td>2021-01-02</td>\n",
              "      <td>210147125.0</td>\n",
              "      <td>7716405.0</td>\n",
              "      <td>15827.0</td>\n",
              "      <td>195725.0</td>\n",
              "      <td>314.0</td>\n",
              "      <td>6756284.0</td>\n",
              "    </tr>\n",
              "    <tr>\n",
              "      <th>2</th>\n",
              "      <td>Brasil</td>\n",
              "      <td>NaN</td>\n",
              "      <td>NaN</td>\n",
              "      <td>2021-01-03</td>\n",
              "      <td>210147125.0</td>\n",
              "      <td>7733746.0</td>\n",
              "      <td>17341.0</td>\n",
              "      <td>196018.0</td>\n",
              "      <td>293.0</td>\n",
              "      <td>6769420.0</td>\n",
              "    </tr>\n",
              "    <tr>\n",
              "      <th>3</th>\n",
              "      <td>Brasil</td>\n",
              "      <td>NaN</td>\n",
              "      <td>NaN</td>\n",
              "      <td>2021-01-04</td>\n",
              "      <td>210147125.0</td>\n",
              "      <td>7753752.0</td>\n",
              "      <td>20006.0</td>\n",
              "      <td>196561.0</td>\n",
              "      <td>543.0</td>\n",
              "      <td>6813008.0</td>\n",
              "    </tr>\n",
              "    <tr>\n",
              "      <th>4</th>\n",
              "      <td>Brasil</td>\n",
              "      <td>NaN</td>\n",
              "      <td>NaN</td>\n",
              "      <td>2021-01-05</td>\n",
              "      <td>210147125.0</td>\n",
              "      <td>7810400.0</td>\n",
              "      <td>56648.0</td>\n",
              "      <td>197732.0</td>\n",
              "      <td>1171.0</td>\n",
              "      <td>6875230.0</td>\n",
              "    </tr>\n",
              "  </tbody>\n",
              "</table>\n",
              "</div>"
            ],
            "text/plain": [
              "   regiao estado municipio  ... obitosAcumulado  obitosNovos  Recuperadosnovos\n",
              "0  Brasil    NaN       NaN  ...        195411.0        462.0         6747065.0\n",
              "1  Brasil    NaN       NaN  ...        195725.0        314.0         6756284.0\n",
              "2  Brasil    NaN       NaN  ...        196018.0        293.0         6769420.0\n",
              "3  Brasil    NaN       NaN  ...        196561.0        543.0         6813008.0\n",
              "4  Brasil    NaN       NaN  ...        197732.0       1171.0         6875230.0\n",
              "\n",
              "[5 rows x 10 columns]"
            ]
          },
          "metadata": {
            "tags": []
          },
          "execution_count": 14
        }
      ]
    },
    {
      "cell_type": "code",
      "metadata": {
        "id": "5ZUgJjKaUi3T"
      },
      "source": [
        "df.dropna(subset=[\"estado\"], inplace=True)"
      ],
      "execution_count": 15,
      "outputs": []
    },
    {
      "cell_type": "code",
      "metadata": {
        "colab": {
          "base_uri": "https://localhost:8080/",
          "height": 313
        },
        "id": "Tm-kInBIU7_F",
        "outputId": "e35158bc-b976-4289-9ea1-a6c09183c2f7"
      },
      "source": [
        "df.head()"
      ],
      "execution_count": 16,
      "outputs": [
        {
          "output_type": "execute_result",
          "data": {
            "text/html": [
              "<div>\n",
              "<style scoped>\n",
              "    .dataframe tbody tr th:only-of-type {\n",
              "        vertical-align: middle;\n",
              "    }\n",
              "\n",
              "    .dataframe tbody tr th {\n",
              "        vertical-align: top;\n",
              "    }\n",
              "\n",
              "    .dataframe thead th {\n",
              "        text-align: right;\n",
              "    }\n",
              "</style>\n",
              "<table border=\"1\" class=\"dataframe\">\n",
              "  <thead>\n",
              "    <tr style=\"text-align: right;\">\n",
              "      <th></th>\n",
              "      <th>regiao</th>\n",
              "      <th>estado</th>\n",
              "      <th>municipio</th>\n",
              "      <th>data</th>\n",
              "      <th>populacaoTCU2019</th>\n",
              "      <th>casosAcumulado</th>\n",
              "      <th>casosNovos</th>\n",
              "      <th>obitosAcumulado</th>\n",
              "      <th>obitosNovos</th>\n",
              "      <th>Recuperadosnovos</th>\n",
              "    </tr>\n",
              "  </thead>\n",
              "  <tbody>\n",
              "    <tr>\n",
              "      <th>181</th>\n",
              "      <td>Norte</td>\n",
              "      <td>RO</td>\n",
              "      <td>NaN</td>\n",
              "      <td>2021-01-01</td>\n",
              "      <td>1777225.0</td>\n",
              "      <td>95999.0</td>\n",
              "      <td>270.0</td>\n",
              "      <td>1822.0</td>\n",
              "      <td>5.0</td>\n",
              "      <td>NaN</td>\n",
              "    </tr>\n",
              "    <tr>\n",
              "      <th>182</th>\n",
              "      <td>Norte</td>\n",
              "      <td>RO</td>\n",
              "      <td>NaN</td>\n",
              "      <td>2021-01-02</td>\n",
              "      <td>1777225.0</td>\n",
              "      <td>96433.0</td>\n",
              "      <td>434.0</td>\n",
              "      <td>1825.0</td>\n",
              "      <td>3.0</td>\n",
              "      <td>NaN</td>\n",
              "    </tr>\n",
              "    <tr>\n",
              "      <th>183</th>\n",
              "      <td>Norte</td>\n",
              "      <td>RO</td>\n",
              "      <td>NaN</td>\n",
              "      <td>2021-01-03</td>\n",
              "      <td>1777225.0</td>\n",
              "      <td>96906.0</td>\n",
              "      <td>473.0</td>\n",
              "      <td>1832.0</td>\n",
              "      <td>7.0</td>\n",
              "      <td>NaN</td>\n",
              "    </tr>\n",
              "    <tr>\n",
              "      <th>184</th>\n",
              "      <td>Norte</td>\n",
              "      <td>RO</td>\n",
              "      <td>NaN</td>\n",
              "      <td>2021-01-04</td>\n",
              "      <td>1777225.0</td>\n",
              "      <td>97197.0</td>\n",
              "      <td>291.0</td>\n",
              "      <td>1840.0</td>\n",
              "      <td>8.0</td>\n",
              "      <td>NaN</td>\n",
              "    </tr>\n",
              "    <tr>\n",
              "      <th>185</th>\n",
              "      <td>Norte</td>\n",
              "      <td>RO</td>\n",
              "      <td>NaN</td>\n",
              "      <td>2021-01-05</td>\n",
              "      <td>1777225.0</td>\n",
              "      <td>97854.0</td>\n",
              "      <td>657.0</td>\n",
              "      <td>1852.0</td>\n",
              "      <td>12.0</td>\n",
              "      <td>NaN</td>\n",
              "    </tr>\n",
              "  </tbody>\n",
              "</table>\n",
              "</div>"
            ],
            "text/plain": [
              "    regiao estado municipio  ... obitosAcumulado  obitosNovos  Recuperadosnovos\n",
              "181  Norte     RO       NaN  ...          1822.0          5.0               NaN\n",
              "182  Norte     RO       NaN  ...          1825.0          3.0               NaN\n",
              "183  Norte     RO       NaN  ...          1832.0          7.0               NaN\n",
              "184  Norte     RO       NaN  ...          1840.0          8.0               NaN\n",
              "185  Norte     RO       NaN  ...          1852.0         12.0               NaN\n",
              "\n",
              "[5 rows x 10 columns]"
            ]
          },
          "metadata": {
            "tags": []
          },
          "execution_count": 16
        }
      ]
    },
    {
      "cell_type": "code",
      "metadata": {
        "id": "8lwtP8xSU9m9"
      },
      "source": [
        "df[\"data\"] = pd.to_datetime(df[\"data\"])"
      ],
      "execution_count": 17,
      "outputs": []
    },
    {
      "cell_type": "code",
      "metadata": {
        "colab": {
          "base_uri": "https://localhost:8080/"
        },
        "id": "JiPR7Dj5VY9K",
        "outputId": "acd27e36-a98a-428c-dee4-c5fc32ee9ffc"
      },
      "source": [
        "df.dtypes"
      ],
      "execution_count": 18,
      "outputs": [
        {
          "output_type": "execute_result",
          "data": {
            "text/plain": [
              "regiao                      object\n",
              "estado                      object\n",
              "municipio                   object\n",
              "data                datetime64[ns]\n",
              "populacaoTCU2019           float64\n",
              "casosAcumulado             float64\n",
              "casosNovos                 float64\n",
              "obitosAcumulado            float64\n",
              "obitosNovos                float64\n",
              "Recuperadosnovos           float64\n",
              "dtype: object"
            ]
          },
          "metadata": {
            "tags": []
          },
          "execution_count": 18
        }
      ]
    },
    {
      "cell_type": "code",
      "metadata": {
        "colab": {
          "base_uri": "https://localhost:8080/",
          "height": 366
        },
        "id": "DDuR1tEhVa4r",
        "outputId": "a6e8e029-53b4-4143-fd93-0243c7c00025"
      },
      "source": [
        "plt.style.use(\"ggplot\")\n",
        "\n",
        "df.groupby(\"regiao\")[\"casosNovos\"].sum().plot.bar()"
      ],
      "execution_count": 32,
      "outputs": [
        {
          "output_type": "execute_result",
          "data": {
            "text/plain": [
              "<matplotlib.axes._subplots.AxesSubplot at 0x7f7878622f50>"
            ]
          },
          "metadata": {
            "tags": []
          },
          "execution_count": 32
        },
        {
          "output_type": "display_data",
          "data": {
            "image/png": "[encoded data removed]",
            "text/plain": [
              "<Figure size 432x288 with 1 Axes>"
            ]
          },
          "metadata": {
            "tags": []
          }
        }
      ]
    },
    {
      "cell_type": "code",
      "metadata": {
        "colab": {
          "base_uri": "https://localhost:8080/",
          "height": 306
        },
        "id": "Slsf78KgWEuz",
        "outputId": "1c46a2a3-68b6-4fc5-b19f-130b118f7c2b"
      },
      "source": [
        "import matplotlib.pyplot as plt\n",
        "plt.style.use(\"ggplot\")\n",
        "df.groupby(\"estado\")[\"obitosAcumulado\"].sum().plot.bar(title=\"Total de obitos por Estado\", color=\"red\")\n",
        "plt.xlabel(\"estado\")\n",
        "plt.ylabel(\"total de obitos\");"
      ],
      "execution_count": 36,
      "outputs": [
        {
          "output_type": "display_data",
          "data": {
            "image/png": "[encoded data removed]",
            "text/plain": [
              "<Figure size 432x288 with 1 Axes>"
            ]
          },
          "metadata": {
            "tags": []
          }
        }
      ]
    },
    {
      "cell_type": "code",
      "metadata": {
        "colab": {
          "base_uri": "https://localhost:8080/",
          "height": 313
        },
        "id": "ZD7FQMn5W1yM",
        "outputId": "108245f9-3d9f-4ff4-f2b8-a8ba88f2216d"
      },
      "source": [
        "df.groupby('data')['casosNovos'].sum().plot()"
      ],
      "execution_count": 45,
      "outputs": [
        {
          "output_type": "execute_result",
          "data": {
            "text/plain": [
              "<matplotlib.axes._subplots.AxesSubplot at 0x7f7874464150>"
            ]
          },
          "metadata": {
            "tags": []
          },
          "execution_count": 45
        },
        {
          "output_type": "display_data",
          "data": {
            "image/png": "[encoded data removed]",
            "text/plain": [
              "<Figure size 432x288 with 1 Axes>"
            ]
          },
          "metadata": {
            "tags": []
          }
        }
      ]
    },
    {
      "cell_type": "code",
      "metadata": {
        "colab": {
          "base_uri": "https://localhost:8080/",
          "height": 317
        },
        "id": "oP2oiHRBYnDI",
        "outputId": "8f143758-7e8a-4a48-aaeb-a25c3b4d8d4c"
      },
      "source": [
        "df.groupby('estado')['casosNovos'].sum().plot.bar()"
      ],
      "execution_count": 50,
      "outputs": [
        {
          "output_type": "execute_result",
          "data": {
            "text/plain": [
              "<matplotlib.axes._subplots.AxesSubplot at 0x7f787425c510>"
            ]
          },
          "metadata": {
            "tags": []
          },
          "execution_count": 50
        },
        {
          "output_type": "display_data",
          "data": {
            "image/png": "[encoded data removed]",
            "text/plain": [
              "<Figure size 432x288 with 1 Axes>"
            ]
          },
          "metadata": {
            "tags": []
          }
        }
      ]
    }
  ]
}